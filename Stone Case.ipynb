{
 "cells": [
  {
   "cell_type": "markdown",
   "id": "edd59516",
   "metadata": {},
   "source": [
    "# Importing libraries "
   ]
  },
  {
   "cell_type": "code",
   "execution_count": 9,
   "id": "e1094549",
   "metadata": {},
   "outputs": [],
   "source": [
    "import json\n",
    "import jsonschema\n",
    "from   jsonschema import validate\n",
    "import datetime\n",
    "import re\n",
    "import numpy as np\n",
    "from dateutil.relativedelta import relativedelta\n",
    "import pandas as pd"
   ]
  },
  {
   "cell_type": "markdown",
   "id": "17a91251",
   "metadata": {},
   "source": [
    "# Declaring functions "
   ]
  },
  {
   "cell_type": "markdown",
   "id": "e34eb3f9",
   "metadata": {},
   "source": [
    "#### Validation functions "
   ]
  },
  {
   "cell_type": "code",
   "execution_count": 2,
   "id": "57a1c389",
   "metadata": {},
   "outputs": [],
   "source": [
    "def validateJson(jsonData):\n",
    "    try:\n",
    "        validate(instance=jsonData, schema=studentSchema)\n",
    "    except jsonschema.exceptions.ValidationError as err:\n",
    "        return False\n",
    "    return True"
   ]
  },
  {
   "cell_type": "code",
   "execution_count": 3,
   "id": "a82f6036",
   "metadata": {},
   "outputs": [],
   "source": [
    "def validateDate(df, list_of_column_dates):\n",
    "    for column_name in list_of_column_dates: \n",
    "        try:\n",
    "            pd.to_datetime(df[column_name], format='%Y-%m-%d', errors='raise')\n",
    "            print('Column '+ str(column_name)+ ' in correct format' )\n",
    "        except ValueError:\n",
    "            print('please verify '+ str(column_name)+ ' column')\n",
    "            pass"
   ]
  },
  {
   "cell_type": "code",
   "execution_count": 4,
   "id": "51b18fb8",
   "metadata": {},
   "outputs": [],
   "source": [
    "## This is an method better than in method \n",
    "## https://stackoverflow.com/questions/7571635/fastest-way-to-check-if-a-value-exists-in-a-list\n",
    "\n",
    "def validateValues(df, column_name, list_of_valid_values):\n",
    "    df_column = df[column_name]\n",
    "    c = [0 for x in range(0,len(df_column))]\n",
    "    reverse_lookup = {x:i for i, x in enumerate(list_of_valid_values)}\n",
    "    for i, x in enumerate(df_column):\n",
    "        c[i] = reverse_lookup.get(x, -1)\n",
    "    \n",
    "    vls_not_in_pattern = c.count(-1) \n",
    "    if (vls_not_in_pattern ==0): \n",
    "        print(\"All elements of \"+ str(column_name) +\" column respect the pattern\")\n",
    "        return\n",
    "    else: \n",
    "        print(\"There are \"+ str(vls_not_in_pattern)+ \" elements that does not follow the pattern in \"+str(column_name)+\" column.\")\n",
    "        return "
   ]
  },
  {
   "cell_type": "code",
   "execution_count": 5,
   "id": "10411ba2",
   "metadata": {},
   "outputs": [],
   "source": [
    "def validateUniqueness(df, columns): \n",
    "    for column in columns:\n",
    "        if (len(df[column]) > df[column].nunique()):\n",
    "            print(\"Column \"+str(column) +\" has not unique values. Please verify.\")\n",
    "        else: \n",
    "            print(\"Column \"+str(column) +\" has unique values for each register.\")"
   ]
  },
  {
   "cell_type": "markdown",
   "id": "be45982d",
   "metadata": {},
   "source": [
    "#### Calculation functions"
   ]
  },
  {
   "cell_type": "code",
   "execution_count": 6,
   "id": "5b42309e",
   "metadata": {},
   "outputs": [],
   "source": [
    "def peso_salario (salario_bruto, cargo, salario_minimo):\n",
    "    if cargo == \"Estagiário\":\n",
    "        return 1 \n",
    "    if salario_bruto/salario_minimo >8:\n",
    "        return 1/5\n",
    "    if salario_bruto/salario_minimo >5:\n",
    "        return 1/3\n",
    "    if salario_bruto/salario_minimo >3:\n",
    "        return 1/2\n",
    "    else: \n",
    "        return 1"
   ]
  },
  {
   "cell_type": "code",
   "execution_count": null,
   "id": "6f145c13",
   "metadata": {},
   "outputs": [],
   "source": [
    "def peso_area(area):\n",
    "    if area == 'Diretoria': \n",
    "        return 1\n",
    "    if area in ('Contabilidade','Financeiro','Tecnologia'): \n",
    "        return 2\n",
    "    if area == 'Serviços Gerais':\n",
    "        return 3\n",
    "    else: \n",
    "        return 5"
   ]
  },
  {
   "cell_type": "code",
   "execution_count": null,
   "id": "2223b3f4",
   "metadata": {},
   "outputs": [],
   "source": [
    "def peso_tempo_admissao(data_admissao):\n",
    "    r = relativedelta(pd.to_datetime('now'), datetime.datetime.strptime(data_admissao, '%Y-%m-%d')) \n",
    "    if (r.years)>8: \n",
    "        return 5\n",
    "    if (r.years)>3: \n",
    "        return 3\n",
    "    if(r.years)>1:\n",
    "        return 2\n",
    "    else: \n",
    "        return 1"
   ]
  },
  {
   "cell_type": "code",
   "execution_count": null,
   "id": "1268448c",
   "metadata": {},
   "outputs": [],
   "source": [
    "def tempo_admissao(data_admissao):\n",
    "    r = relativedelta(pd.to_datetime('now'), datetime.datetime.strptime(data_admissao, '%Y-%m-%d')) \n",
    "    return r.years"
   ]
  },
  {
   "cell_type": "code",
   "execution_count": null,
   "id": "25ea2264",
   "metadata": {},
   "outputs": [],
   "source": [
    "def faixa_salarial (salario_bruto):\n",
    "    if salario_bruto/salario_minimo >8:\n",
    "        return 'maior que 8 salários'\n",
    "    if salario_bruto/salario_minimo >5:\n",
    "        return 'entre 6 e 8 salários'\n",
    "    if salario_bruto/salario_minimo >3:\n",
    "        return 'entre 3 e 5 salários'\n",
    "    else: \n",
    "        return 'até 3 salários'"
   ]
  },
  {
   "cell_type": "markdown",
   "id": "8e088643",
   "metadata": {},
   "source": [
    "# Reading data"
   ]
  },
  {
   "cell_type": "code",
   "execution_count": 7,
   "id": "b8e6c450",
   "metadata": {},
   "outputs": [
    {
     "name": "stdout",
     "output_type": "stream",
     "text": [
      "Given JSON data is Valid\n"
     ]
    }
   ],
   "source": [
    "##If this runs without throuing an exeception, the json is ok. \n",
    "%run base_desafio_lucros.json python -m json.tool\n",
    "\n",
    "# Describe what kind of json you expect.\n",
    "studentSchema = {\n",
    "    \"matricula\": \"int\",\n",
    "    \"nome\": \"object\",\n",
    "    \"area\": \"object\",\n",
    "    \"cargo\": \"object\",\n",
    "    \"salario_bruto\": \"object\",\n",
    "    \"data_de_admissao\": \"object\",\n",
    "}\n",
    "\n",
    "# Opening file \n",
    "f = open ('base_desafio_lucros.json', \"r\", encoding='utf-8')\n",
    "\n",
    "# Reading from file\n",
    "data = json.loads(f.read())\n",
    "\n",
    "# Check if it pass the validate schema\n",
    "isValid = validateJson(data)\n",
    "                       \n",
    "if isValid:\n",
    "    print(\"Given JSON data is Valid\")\n",
    "else:\n",
    "    print(\"Given JSON data is InValid\")"
   ]
  },
  {
   "cell_type": "markdown",
   "id": "b6afbb53",
   "metadata": {},
   "source": [
    "# Transforming data "
   ]
  },
  {
   "cell_type": "code",
   "execution_count": 10,
   "id": "2d3b7d35",
   "metadata": {},
   "outputs": [],
   "source": [
    "# Transforming it to table\n",
    "data_df = pd.json_normalize(data, errors = 'raise')\n",
    "\n",
    "# Transforming data\n",
    "data_df['salario_bruto'] = data_df['salario_bruto'].str.replace(r'[^0-9.]', r'', regex=True).astype(float)"
   ]
  },
  {
   "cell_type": "markdown",
   "id": "55bc448d",
   "metadata": {},
   "source": [
    "# Verifying column format and business rules"
   ]
  },
  {
   "cell_type": "markdown",
   "id": "7e5648da",
   "metadata": {},
   "source": [
    "Here we suppose that business rules were informed by business people."
   ]
  },
  {
   "cell_type": "code",
   "execution_count": 11,
   "id": "6fef342b",
   "metadata": {},
   "outputs": [],
   "source": [
    "list_of_valid_cargos = ['Pessoa Desenvolvedora', 'Jovem Aprendiz',\n",
    "                        'Auxiliar Administrativo', 'Atendente', 'Líder de Relacionamento',\n",
    "                        'Copeiro', 'Auxiliar de Ouvidoria', 'Diretor Financeiro',\n",
    "                        'Contador Júnior', 'Contador Pleno', 'Atendente de Almoxarifado',\n",
    "                        'Economista Pleno', 'Diretor Tecnologia', 'Economista Júnior',\n",
    "                        'Líder de Ouvidoria', 'Analista de Finanças', 'Estagiário',\n",
    "                        'Auxiliar de Contabilidade']\n",
    "\n",
    "list_of_valid_areas = ['Tecnologia', 'Contabilidade', 'Relacionamento com o Cliente',\n",
    "                       'Serviços Gerais', 'Diretoria', 'Financeiro']"
   ]
  },
  {
   "cell_type": "markdown",
   "id": "4b1528e0",
   "metadata": {},
   "source": [
    "Could be verifyed in other steps, but we assume that some columns may have problems. "
   ]
  },
  {
   "cell_type": "code",
   "execution_count": 12,
   "id": "d1fcf29c",
   "metadata": {
    "scrolled": true
   },
   "outputs": [
    {
     "name": "stdout",
     "output_type": "stream",
     "text": [
      "Column data_de_admissao in correct format\n",
      "All elements of cargo column respect the pattern\n",
      "All elements of area column respect the pattern\n",
      "Column matricula has unique values for each register.\n",
      "Column nome has not unique values. Please verify.\n"
     ]
    }
   ],
   "source": [
    "#Verify date format\n",
    "validateDate(data_df, ['data_de_admissao'])\n",
    "\n",
    "#Validate text values (here the main goal is avoiding that business people insert new values without communicating us)\n",
    "validateValues(data_df, 'cargo', list_of_valid_cargos)\n",
    "validateValues(data_df, 'area', list_of_valid_areas)\n",
    "\n",
    "#Validate uniqueness of registers\n",
    "validateUniqueness(data_df, ['matricula','nome'])"
   ]
  },
  {
   "cell_type": "markdown",
   "id": "cd994e99",
   "metadata": {},
   "source": [
    "# Calculating scores"
   ]
  },
  {
   "cell_type": "code",
   "execution_count": 13,
   "id": "c628c7a3",
   "metadata": {},
   "outputs": [],
   "source": [
    "salario_minimo = 1212\n",
    "percent_lucros = 0.2\n",
    "total_lucros = 5000000\n",
    "data_df['tempo_admissao'] = data_df[\"data_de_admissao\"].apply(tempo_admissao)\n",
    "data_df['faixa_salarial'] = data_df[\"salario_bruto\"].apply(faixa_salarial)\n",
    "\n",
    "data_df['peso_salario'] = data_df[[\"salario_bruto\",\"cargo\"]].apply(lambda x: peso_salario(x[\"salario_bruto\"],x[\"cargo\"],salario_minimo), axis=1)    \n",
    "data_df['peso_area']  = data_df[\"area\"].apply(peso_area)\n",
    "data_df['peso_tempo_admissao'] = data_df[\"data_de_admissao\"].apply(peso_tempo_admissao)\n",
    "data_df['peso_usuario'] = data_df[\"peso_salario\"]*data_df['peso_area']*data_df['peso_tempo_admissao']\n",
    "data_df['porcao_bonus'] = data_df[\"peso_usuario\"]/data_df[\"peso_usuario\"].sum()\n",
    "data_df['bonus'] = round(percent_lucros*total_lucros*data_df['porcao_bonus'],2)"
   ]
  },
  {
   "cell_type": "markdown",
   "id": "ecd267c6",
   "metadata": {},
   "source": [
    "# Grouping and presenting manegerial data"
   ]
  },
  {
   "cell_type": "code",
   "execution_count": 14,
   "id": "f91d6dd2",
   "metadata": {
    "scrolled": true
   },
   "outputs": [],
   "source": [
    "## Total distribuído\n",
    "total_distribuido_bonus = data_df['bonus'].sum()\n",
    "\n",
    "## Total disponibilizado\n",
    "total_reservado_bonus = percent_lucros * total_lucros"
   ]
  },
  {
   "cell_type": "code",
   "execution_count": 15,
   "id": "63c2063c",
   "metadata": {},
   "outputs": [],
   "source": [
    "#Total distribuído e número de funcionários por área\n",
    "renamed_columns_area  = {'matricula': 'total_de_funcionarios',\n",
    "                             'bonus': 'total_bonus'}\n",
    "\n",
    "df_resumo_area = data_df.groupby([\"area\"])\\\n",
    "                 .agg({\"matricula\":pd.Series.nunique,\n",
    "                       \"bonus\":\"sum\"})\\\n",
    "                 .reset_index()\\\n",
    "                 .rename(columns=renamed_columns_area)"
   ]
  },
  {
   "cell_type": "code",
   "execution_count": 16,
   "id": "970e4a32",
   "metadata": {},
   "outputs": [],
   "source": [
    "# Total distribuído e número de funcionários por faixa salarial \n",
    "renamed_columns_area  = {'matricula': 'total_de_funcionarios',\n",
    "                             'bonus': 'total_bonus'}\n",
    "\n",
    "df_resumo_faixa_salarial = data_df.groupby([\"faixa_salarial\"])\\\n",
    "                 .agg({\"matricula\":pd.Series.nunique,\n",
    "                       \"bonus\":\"sum\"})\\\n",
    "                 .reset_index()\\\n",
    "                 .rename(columns=renamed_columns_area)"
   ]
  },
  {
   "cell_type": "code",
   "execution_count": 17,
   "id": "ed8706d3",
   "metadata": {},
   "outputs": [],
   "source": [
    "#Total distribuído e número de funcionários por tempo de admissão\n",
    "renamed_columns_area  = {'matricula': 'total_de_funcionarios',\n",
    "                             'bonus': 'total_bonus'}\n",
    "\n",
    "df_resumo_tempo_admissao = data_df.groupby([\"tempo_admissao\"])\\\n",
    "                 .agg({\"matricula\":pd.Series.nunique,\n",
    "                       \"bonus\":\"sum\"})\\\n",
    "                 .reset_index()\\\n",
    "                 .rename(columns=renamed_columns_area)"
   ]
  }
 ],
 "metadata": {
  "kernelspec": {
   "display_name": "Python 3 (ipykernel)",
   "language": "python",
   "name": "python3"
  },
  "language_info": {
   "codemirror_mode": {
    "name": "ipython",
    "version": 3
   },
   "file_extension": ".py",
   "mimetype": "text/x-python",
   "name": "python",
   "nbconvert_exporter": "python",
   "pygments_lexer": "ipython3",
   "version": "3.9.7"
  }
 },
 "nbformat": 4,
 "nbformat_minor": 5
}
